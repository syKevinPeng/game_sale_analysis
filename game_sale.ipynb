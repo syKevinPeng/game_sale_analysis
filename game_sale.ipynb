{
 "cells": [
  {
   "cell_type": "markdown",
   "source": [
    "![Image of Yaktocat](https://cdn.mos.cms.futurecdn.net/rLh7Dh7EKo8F6zmDtXYp8W.jpg)\n",
    "# Table of Contents\n",
    "1. [Introduction](#introduction)\n",
    "2. [Install packages](#install-pkg)\n",
    "3. [Data Dowloading](#data-download)\n",
    "4. [Preprocessing](#preprocessing)<br>\n",
    "    a. [Load and Clean Dataset](#load-and-clean)<br>\n",
    "    b. [Data Analysis and Visualization](#data-ana-vis)\n",
    "5. [Machine Learning Model](#ml-model)<br>\n",
    "    a. [What and Why](#what-why)<br>\n",
    "    b. [Training](#training)<br>\n",
    "    c. [Result Anlysis and Demonstration](#result-ana-demon)\n",
    "6. [Future Application](#future-app)\n",
    "7. [Reference and External Link](#ref-and-extlink)\n",
    "\n",
    "## 1. Introduction <a name=\"introduction\"></a>\n",
    "Have you dreamed about strolling around a dystopian metropole where violence, oppression, and cyberware implants aren't just common in 2077?\n",
    "Have you dreamed about holding a Great Sword fight against a giant ancient dragon in Monster World?\n",
    "Have you dreamed about driving Bugatti Veyron Super Sport in the city and all your opponents are in your rear mirror?\n",
    "Playing video games seems to be a more and more popular entertainment options for people, especially in the middle of pandemic.\n",
    "Gaming market values are almost double from 2012 to 2020. It's now a 150 billion industry with almost 10 thousands of game produced each year.\n",
    "In this project, we are interested in what makes a game popular and how much revenue it may generate."
   ],
   "metadata": {
    "collapsed": false
   }
  },
  {
   "cell_type": "markdown",
   "source": [
    "## 2. Install Packages <a name=\"install-pkg\"></a>\n",
    "```\n",
    "pip install kaggle numpy matplotlib pandas sklearn\n",
    "```\n",
    "or use [environment.yml](https://github.com/syKevinPeng/game_sale_analysis/blob/main/environment.yml) to install packages in Conda environment\n",
    "```\n",
    "conda env update -f environment.yml\n",
    "```\n",
    "## 3. Data Downloading <a name=\"data-download\"></a>"
   ],
   "metadata": {
    "collapsed": false
   }
  },
  {
   "cell_type": "code",
   "execution_count": 1,
   "outputs": [
    {
     "name": "stdout",
     "output_type": "stream",
     "text": [
      "video-games-sales-2019.zip: Skipping, found more recently modified local copy (use --force to force download)\n"
     ]
    }
   ],
   "source": [
    "import kaggle\n",
    "# remember to put kaggle.json to your C:/username/.kaggle\n",
    "!kaggle datasets download -d ashaheedq/video-games-sales-2019"
   ],
   "metadata": {
    "collapsed": false,
    "pycharm": {
     "name": "#%%\n"
    }
   }
  },
  {
   "cell_type": "markdown",
   "source": [
    "or directly download from kaggle webpage: [https://www.kaggle.com/ashaheedq/video-games-sales-2019](https://www.kaggle.com/ashaheedq/video-games-sales-2019)_\n",
    "## 4. Preprocessing <a name=\"preprocessing\"></a>\n",
    "In this section, we will load and process the two datasets: \"vgsales-12-4-2019.csv\" is our main dataset and \"video_games.csv\"\n",
    "is a complementary dataset we will use to fill in  important missing values like \"Global_Sales\" and \"Critic_Score\" in the first dataset.\n",
    "**Datasets**\n",
    "\n",
    "\"vgsales-12-4-2019.csv\" is a kaggle dataset with around 50000 records of game sales collected in 2019.\n",
    "There are missing values in the column \"Global_Sales\", since this column is the predicted value for our model training,\n",
    "we load another dataset \"video_games.csv\" to fill in these values as many as possible and drop the rest N/A values.\n",
    "\n",
    "\"video_games.csv\" is a dataset of Steam game sales,\n",
    " we load it from [this repository](https://github.com/rfordatascience/tidytuesday/tree/master/data/2019/2019-07-30).\n",
    " It has a cloumn \"owners\" which includes a range of the number of players that own each game,\n",
    " we take the expected value (or median) of every range as the replacement for the missing data in the first dataset,\n",
    " and we will do the same for the missing values in \"Critic_Score\". To merge the two datasets after doing necessary\n",
    " processing, we will use a LEFT JOIN based on the columns \"Name\" and \"Year\".\n",
    "### 4.a. Load and Clean Data <a name=\"load-and-clean\"></a>\n",
    "In the following cells we import the libraries,load the datasets using pandas.read_csv() function, and reate a preview of the datasets using df.head() function."
   ],
   "metadata": {
    "collapsed": false
   }
  },
  {
   "cell_type": "code",
   "execution_count": 2,
   "outputs": [
    {
     "data": {
      "text/plain": "   Rank                           Name                      basename  \\\n0     1                     Wii Sports                    wii-sports   \n1     2              Super Mario Bros.              super-mario-bros   \n2     3                 Mario Kart Wii                mario-kart-wii   \n3     4  PlayerUnknown's Battlegrounds  playerunknowns-battlegrounds   \n4     5              Wii Sports Resort             wii-sports-resort   \n\n      Genre ESRB_Rating Platform         Publisher         Developer  \\\n0    Sports           E      Wii          Nintendo      Nintendo EAD   \n1  Platform         NaN      NES          Nintendo      Nintendo EAD   \n2    Racing           E      Wii          Nintendo      Nintendo EAD   \n3   Shooter         NaN       PC  PUBG Corporation  PUBG Corporation   \n4    Sports           E      Wii          Nintendo      Nintendo EAD   \n\n   VGChartz_Score  Critic_Score  ...  NA_Sales  PAL_Sales  JP_Sales  \\\n0             NaN           7.7  ...       NaN        NaN       NaN   \n1             NaN          10.0  ...       NaN        NaN       NaN   \n2             NaN           8.2  ...       NaN        NaN       NaN   \n3             NaN           NaN  ...       NaN        NaN       NaN   \n4             NaN           8.0  ...       NaN        NaN       NaN   \n\n   Other_Sales    Year  Last_Update  \\\n0          NaN  2006.0          NaN   \n1          NaN  1985.0          NaN   \n2          NaN  2008.0  11th Apr 18   \n3          NaN  2017.0  13th Nov 18   \n4          NaN  2009.0          NaN   \n\n                                                 url  status Vgchartzscore  \\\n0  http://www.vgchartz.com/game/2667/wii-sports/?...       1           NaN   \n1  http://www.vgchartz.com/game/6455/super-mario-...       1           NaN   \n2  http://www.vgchartz.com/game/6968/mario-kart-w...       1           8.7   \n3  http://www.vgchartz.com/game/215988/playerunkn...       1           NaN   \n4  http://www.vgchartz.com/game/24656/wii-sports-...       1           8.8   \n\n                                         img_url  \n0  /games/boxart/full_2258645AmericaFrontccc.jpg  \n1                   /games/boxart/8972270ccc.jpg  \n2  /games/boxart/full_8932480AmericaFrontccc.jpg  \n3  /games/boxart/full_8052843AmericaFrontccc.jpg  \n4  /games/boxart/full_7295041AmericaFrontccc.jpg  \n\n[5 rows x 23 columns]",
      "text/html": "<div>\n<style scoped>\n    .dataframe tbody tr th:only-of-type {\n        vertical-align: middle;\n    }\n\n    .dataframe tbody tr th {\n        vertical-align: top;\n    }\n\n    .dataframe thead th {\n        text-align: right;\n    }\n</style>\n<table border=\"1\" class=\"dataframe\">\n  <thead>\n    <tr style=\"text-align: right;\">\n      <th></th>\n      <th>Rank</th>\n      <th>Name</th>\n      <th>basename</th>\n      <th>Genre</th>\n      <th>ESRB_Rating</th>\n      <th>Platform</th>\n      <th>Publisher</th>\n      <th>Developer</th>\n      <th>VGChartz_Score</th>\n      <th>Critic_Score</th>\n      <th>...</th>\n      <th>NA_Sales</th>\n      <th>PAL_Sales</th>\n      <th>JP_Sales</th>\n      <th>Other_Sales</th>\n      <th>Year</th>\n      <th>Last_Update</th>\n      <th>url</th>\n      <th>status</th>\n      <th>Vgchartzscore</th>\n      <th>img_url</th>\n    </tr>\n  </thead>\n  <tbody>\n    <tr>\n      <th>0</th>\n      <td>1</td>\n      <td>Wii Sports</td>\n      <td>wii-sports</td>\n      <td>Sports</td>\n      <td>E</td>\n      <td>Wii</td>\n      <td>Nintendo</td>\n      <td>Nintendo EAD</td>\n      <td>NaN</td>\n      <td>7.7</td>\n      <td>...</td>\n      <td>NaN</td>\n      <td>NaN</td>\n      <td>NaN</td>\n      <td>NaN</td>\n      <td>2006.0</td>\n      <td>NaN</td>\n      <td>http://www.vgchartz.com/game/2667/wii-sports/?...</td>\n      <td>1</td>\n      <td>NaN</td>\n      <td>/games/boxart/full_2258645AmericaFrontccc.jpg</td>\n    </tr>\n    <tr>\n      <th>1</th>\n      <td>2</td>\n      <td>Super Mario Bros.</td>\n      <td>super-mario-bros</td>\n      <td>Platform</td>\n      <td>NaN</td>\n      <td>NES</td>\n      <td>Nintendo</td>\n      <td>Nintendo EAD</td>\n      <td>NaN</td>\n      <td>10.0</td>\n      <td>...</td>\n      <td>NaN</td>\n      <td>NaN</td>\n      <td>NaN</td>\n      <td>NaN</td>\n      <td>1985.0</td>\n      <td>NaN</td>\n      <td>http://www.vgchartz.com/game/6455/super-mario-...</td>\n      <td>1</td>\n      <td>NaN</td>\n      <td>/games/boxart/8972270ccc.jpg</td>\n    </tr>\n    <tr>\n      <th>2</th>\n      <td>3</td>\n      <td>Mario Kart Wii</td>\n      <td>mario-kart-wii</td>\n      <td>Racing</td>\n      <td>E</td>\n      <td>Wii</td>\n      <td>Nintendo</td>\n      <td>Nintendo EAD</td>\n      <td>NaN</td>\n      <td>8.2</td>\n      <td>...</td>\n      <td>NaN</td>\n      <td>NaN</td>\n      <td>NaN</td>\n      <td>NaN</td>\n      <td>2008.0</td>\n      <td>11th Apr 18</td>\n      <td>http://www.vgchartz.com/game/6968/mario-kart-w...</td>\n      <td>1</td>\n      <td>8.7</td>\n      <td>/games/boxart/full_8932480AmericaFrontccc.jpg</td>\n    </tr>\n    <tr>\n      <th>3</th>\n      <td>4</td>\n      <td>PlayerUnknown's Battlegrounds</td>\n      <td>playerunknowns-battlegrounds</td>\n      <td>Shooter</td>\n      <td>NaN</td>\n      <td>PC</td>\n      <td>PUBG Corporation</td>\n      <td>PUBG Corporation</td>\n      <td>NaN</td>\n      <td>NaN</td>\n      <td>...</td>\n      <td>NaN</td>\n      <td>NaN</td>\n      <td>NaN</td>\n      <td>NaN</td>\n      <td>2017.0</td>\n      <td>13th Nov 18</td>\n      <td>http://www.vgchartz.com/game/215988/playerunkn...</td>\n      <td>1</td>\n      <td>NaN</td>\n      <td>/games/boxart/full_8052843AmericaFrontccc.jpg</td>\n    </tr>\n    <tr>\n      <th>4</th>\n      <td>5</td>\n      <td>Wii Sports Resort</td>\n      <td>wii-sports-resort</td>\n      <td>Sports</td>\n      <td>E</td>\n      <td>Wii</td>\n      <td>Nintendo</td>\n      <td>Nintendo EAD</td>\n      <td>NaN</td>\n      <td>8.0</td>\n      <td>...</td>\n      <td>NaN</td>\n      <td>NaN</td>\n      <td>NaN</td>\n      <td>NaN</td>\n      <td>2009.0</td>\n      <td>NaN</td>\n      <td>http://www.vgchartz.com/game/24656/wii-sports-...</td>\n      <td>1</td>\n      <td>8.8</td>\n      <td>/games/boxart/full_7295041AmericaFrontccc.jpg</td>\n    </tr>\n  </tbody>\n</table>\n<p>5 rows × 23 columns</p>\n</div>"
     },
     "execution_count": 2,
     "metadata": {},
     "output_type": "execute_result"
    }
   ],
   "source": [
    "import pandas as pd\n",
    "import numpy as np\n",
    "import sklearn\n",
    "from sklearn.preprocessing import OneHotEncoder, LabelEncoder\n",
    "from sklearn.compose import ColumnTransformer\n",
    "from sklearn import preprocessing\n",
    "import locale\n",
    "\n",
    "locale.setlocale( locale.LC_ALL, 'en_US.UTF-8' )\n",
    "df = pd.read_csv(\"vgsales-12-4-2019.csv\")\n",
    "additional = pd.read_csv(\"https://raw.githubusercontent.com/rfordatascience/tidytuesday/master/data/2019/2019-07-30/video_games.csv\")\n",
    "df.head()"
   ],
   "metadata": {
    "collapsed": false,
    "pycharm": {
     "name": "#%%\n"
    }
   }
  },
  {
   "cell_type": "code",
   "execution_count": 3,
   "outputs": [
    {
     "data": {
      "text/plain": "   number                            game  release_date  price  \\\n0       1                     Half-Life 2  Nov 16, 2004   9.99   \n1       3          Counter-Strike: Source   Nov 1, 2004   9.99   \n2      21  Counter-Strike: Condition Zero   Mar 1, 2004   9.99   \n3      47         Half-Life 2: Deathmatch   Nov 1, 2004   4.99   \n4      36               Half-Life: Source   Jun 1, 2004   9.99   \n\n                     owners developer publisher  average_playtime  \\\n0  10,000,000 .. 20,000,000     Valve     Valve             110.0   \n1  10,000,000 .. 20,000,000     Valve     Valve             236.0   \n2  10,000,000 .. 20,000,000     Valve     Valve              10.0   \n3   5,000,000 .. 10,000,000     Valve     Valve               0.0   \n4    2,000,000 .. 5,000,000     Valve     Valve               0.0   \n\n   median_playtime  metascore  \n0             66.0       96.0  \n1            128.0       88.0  \n2              3.0       65.0  \n3              0.0        NaN  \n4              0.0        NaN  ",
      "text/html": "<div>\n<style scoped>\n    .dataframe tbody tr th:only-of-type {\n        vertical-align: middle;\n    }\n\n    .dataframe tbody tr th {\n        vertical-align: top;\n    }\n\n    .dataframe thead th {\n        text-align: right;\n    }\n</style>\n<table border=\"1\" class=\"dataframe\">\n  <thead>\n    <tr style=\"text-align: right;\">\n      <th></th>\n      <th>number</th>\n      <th>game</th>\n      <th>release_date</th>\n      <th>price</th>\n      <th>owners</th>\n      <th>developer</th>\n      <th>publisher</th>\n      <th>average_playtime</th>\n      <th>median_playtime</th>\n      <th>metascore</th>\n    </tr>\n  </thead>\n  <tbody>\n    <tr>\n      <th>0</th>\n      <td>1</td>\n      <td>Half-Life 2</td>\n      <td>Nov 16, 2004</td>\n      <td>9.99</td>\n      <td>10,000,000 .. 20,000,000</td>\n      <td>Valve</td>\n      <td>Valve</td>\n      <td>110.0</td>\n      <td>66.0</td>\n      <td>96.0</td>\n    </tr>\n    <tr>\n      <th>1</th>\n      <td>3</td>\n      <td>Counter-Strike: Source</td>\n      <td>Nov 1, 2004</td>\n      <td>9.99</td>\n      <td>10,000,000 .. 20,000,000</td>\n      <td>Valve</td>\n      <td>Valve</td>\n      <td>236.0</td>\n      <td>128.0</td>\n      <td>88.0</td>\n    </tr>\n    <tr>\n      <th>2</th>\n      <td>21</td>\n      <td>Counter-Strike: Condition Zero</td>\n      <td>Mar 1, 2004</td>\n      <td>9.99</td>\n      <td>10,000,000 .. 20,000,000</td>\n      <td>Valve</td>\n      <td>Valve</td>\n      <td>10.0</td>\n      <td>3.0</td>\n      <td>65.0</td>\n    </tr>\n    <tr>\n      <th>3</th>\n      <td>47</td>\n      <td>Half-Life 2: Deathmatch</td>\n      <td>Nov 1, 2004</td>\n      <td>4.99</td>\n      <td>5,000,000 .. 10,000,000</td>\n      <td>Valve</td>\n      <td>Valve</td>\n      <td>0.0</td>\n      <td>0.0</td>\n      <td>NaN</td>\n    </tr>\n    <tr>\n      <th>4</th>\n      <td>36</td>\n      <td>Half-Life: Source</td>\n      <td>Jun 1, 2004</td>\n      <td>9.99</td>\n      <td>2,000,000 .. 5,000,000</td>\n      <td>Valve</td>\n      <td>Valve</td>\n      <td>0.0</td>\n      <td>0.0</td>\n      <td>NaN</td>\n    </tr>\n  </tbody>\n</table>\n</div>"
     },
     "execution_count": 3,
     "metadata": {},
     "output_type": "execute_result"
    }
   ],
   "source": [
    "additional.head()"
   ],
   "metadata": {
    "collapsed": false,
    "pycharm": {
     "name": "#%%\n"
    }
   }
  },
  {
   "cell_type": "markdown",
   "source": [
    "**Clean the additional dataset**\n",
    "\n",
    "Let's process the additional dataset. First, we drop rows with NaN values in the columns \"owners\" and \"release_date\"\n",
    "because we do not want to have missing values in these columns, and reset the index of the dataframe. Next, we divide\n",
    "the values in the column \"metascore\" by 10 to make the unit (a float with one decimal place) match in both tables, and\n",
    "store the results in a new column \"Critic_Score\". To calculate the median of the range of owners, we convert the values\n",
    "in the column \"owners\" to string, then iterate through the dataframe to split the string and convert the results to integers,\n",
    "finally we calculate the result (in millions). In the same loop, we also extract the value of year from the column \"release_date\".\n",
    " Note that there are NaN values in the column \"Critic_Score\" but we do not drop them because our main goal is to get more values\n",
    " for \"Global_Sales\". After renaming the columns that we will use to merge the datasets\n",
    " (by copying to new columns and dropping the original columns), we finish processing the additional dataset."
   ],
   "metadata": {
    "collapsed": false
   }
  },
  {
   "cell_type": "code",
   "execution_count": 4,
   "outputs": [
    {
     "data": {
      "text/plain": "   Critic_Score  Year                            Name Developer Global_Sales\n0           9.6  2004                     Half-Life 2     Valve            5\n1           8.8  2004          Counter-Strike: Source     Valve            5\n2           6.5  2004  Counter-Strike: Condition Zero     Valve            5\n3           NaN  2004         Half-Life 2: Deathmatch     Valve          2.5\n4           NaN  2004               Half-Life: Source     Valve          1.5",
      "text/html": "<div>\n<style scoped>\n    .dataframe tbody tr th:only-of-type {\n        vertical-align: middle;\n    }\n\n    .dataframe tbody tr th {\n        vertical-align: top;\n    }\n\n    .dataframe thead th {\n        text-align: right;\n    }\n</style>\n<table border=\"1\" class=\"dataframe\">\n  <thead>\n    <tr style=\"text-align: right;\">\n      <th></th>\n      <th>Critic_Score</th>\n      <th>Year</th>\n      <th>Name</th>\n      <th>Developer</th>\n      <th>Global_Sales</th>\n    </tr>\n  </thead>\n  <tbody>\n    <tr>\n      <th>0</th>\n      <td>9.6</td>\n      <td>2004</td>\n      <td>Half-Life 2</td>\n      <td>Valve</td>\n      <td>5</td>\n    </tr>\n    <tr>\n      <th>1</th>\n      <td>8.8</td>\n      <td>2004</td>\n      <td>Counter-Strike: Source</td>\n      <td>Valve</td>\n      <td>5</td>\n    </tr>\n    <tr>\n      <th>2</th>\n      <td>6.5</td>\n      <td>2004</td>\n      <td>Counter-Strike: Condition Zero</td>\n      <td>Valve</td>\n      <td>5</td>\n    </tr>\n    <tr>\n      <th>3</th>\n      <td>NaN</td>\n      <td>2004</td>\n      <td>Half-Life 2: Deathmatch</td>\n      <td>Valve</td>\n      <td>2.5</td>\n    </tr>\n    <tr>\n      <th>4</th>\n      <td>NaN</td>\n      <td>2004</td>\n      <td>Half-Life: Source</td>\n      <td>Valve</td>\n      <td>1.5</td>\n    </tr>\n  </tbody>\n</table>\n</div>"
     },
     "execution_count": 4,
     "metadata": {},
     "output_type": "execute_result"
    }
   ],
   "source": [
    "additional = additional.dropna(subset = ['owners', 'release_date'])\n",
    "additional = additional.reset_index(drop = True)\n",
    "additional['Critic_Score'] = additional['metascore']/10\n",
    "additional['Year'] = additional['release_date']\n",
    "additional['owners'] = additional['owners'].astype(str)\n",
    "# calculate median of owners and extract value of year\n",
    "for i in range(len(additional)):\n",
    "    str(additional.loc[i, 'owners'])\n",
    "    nums = additional.loc[i, 'owners'].split('\\xa0..\\xa0')\n",
    "    additional.loc[i, 'owners'] = float((locale.atoi(nums[1]) - locale.atoi(nums[0])) / 2000000)\n",
    "    temp = additional.loc[i, 'Year'].split(', ')\n",
    "    if len(temp) != 2:\n",
    "        additional.loc[i, 'Year'] = np.nan\n",
    "    else:\n",
    "        additional.loc[i, 'Year'] = int(temp[1])\n",
    "\n",
    "additional = additional.dropna(subset = ['release_date'])\n",
    "# drop useless columns and rename columns\n",
    "additional = additional.drop(columns = ['number', 'price', 'average_playtime', 'median_playtime'])\n",
    "additional['Name'] = additional['game']\n",
    "additional['Developer'] = additional['developer']\n",
    "additional['Global_Sales'] = additional['owners']\n",
    "additional = additional.drop(columns=['metascore', 'release_date', 'publisher', 'game', 'developer', 'owners'])\n",
    "additional.head()"
   ],
   "metadata": {
    "collapsed": false,
    "pycharm": {
     "name": "#%%\n"
    }
   }
  },
  {
   "cell_type": "markdown",
   "source": [
    "**Merge the main dataset and the additional dataset**\n",
    "\n",
    "Before merging the two datasets, we drop rows having missing values in the column \"Year\" as we will use this column\n",
    "and the column \"Name\" in merging. Then we drop columns we will not use in data visualization and data analysis, which\n",
    "are 'Rank', 'basename', 'Total_Shipped', 'Platform', 'Publisher', 'VGChartz_Score', 'Last_Update', 'url', 'status',\n",
    "'Vgchartzscore', 'img_url', 'User_Score'.\n",
    "\n",
    "The type of join we choose is left join, because we do not want to add excessive records from the additional dataset."
   ],
   "metadata": {
    "collapsed": false
   }
  },
  {
   "cell_type": "code",
   "execution_count": 5,
   "outputs": [
    {
     "data": {
      "text/plain": "                            Name     Genre ESRB_Rating         Developer  \\\n0                     Wii Sports    Sports           E      Nintendo EAD   \n1              Super Mario Bros.  Platform         NaN      Nintendo EAD   \n2                 Mario Kart Wii    Racing           E      Nintendo EAD   \n3  PlayerUnknown's Battlegrounds   Shooter         NaN  PUBG Corporation   \n4              Wii Sports Resort    Sports           E      Nintendo EAD   \n\n   Critic_Score  Global_Sales  NA_Sales  PAL_Sales  JP_Sales  Other_Sales  \\\n0           7.7           NaN       NaN        NaN       NaN          NaN   \n1          10.0           NaN       NaN        NaN       NaN          NaN   \n2           8.2           NaN       NaN        NaN       NaN          NaN   \n3           NaN           NaN       NaN        NaN       NaN          NaN   \n4           8.0           NaN       NaN        NaN       NaN          NaN   \n\n   Year  \n0  2006  \n1  1985  \n2  2008  \n3  2017  \n4  2009  ",
      "text/html": "<div>\n<style scoped>\n    .dataframe tbody tr th:only-of-type {\n        vertical-align: middle;\n    }\n\n    .dataframe tbody tr th {\n        vertical-align: top;\n    }\n\n    .dataframe thead th {\n        text-align: right;\n    }\n</style>\n<table border=\"1\" class=\"dataframe\">\n  <thead>\n    <tr style=\"text-align: right;\">\n      <th></th>\n      <th>Name</th>\n      <th>Genre</th>\n      <th>ESRB_Rating</th>\n      <th>Developer</th>\n      <th>Critic_Score</th>\n      <th>Global_Sales</th>\n      <th>NA_Sales</th>\n      <th>PAL_Sales</th>\n      <th>JP_Sales</th>\n      <th>Other_Sales</th>\n      <th>Year</th>\n    </tr>\n  </thead>\n  <tbody>\n    <tr>\n      <th>0</th>\n      <td>Wii Sports</td>\n      <td>Sports</td>\n      <td>E</td>\n      <td>Nintendo EAD</td>\n      <td>7.7</td>\n      <td>NaN</td>\n      <td>NaN</td>\n      <td>NaN</td>\n      <td>NaN</td>\n      <td>NaN</td>\n      <td>2006</td>\n    </tr>\n    <tr>\n      <th>1</th>\n      <td>Super Mario Bros.</td>\n      <td>Platform</td>\n      <td>NaN</td>\n      <td>Nintendo EAD</td>\n      <td>10.0</td>\n      <td>NaN</td>\n      <td>NaN</td>\n      <td>NaN</td>\n      <td>NaN</td>\n      <td>NaN</td>\n      <td>1985</td>\n    </tr>\n    <tr>\n      <th>2</th>\n      <td>Mario Kart Wii</td>\n      <td>Racing</td>\n      <td>E</td>\n      <td>Nintendo EAD</td>\n      <td>8.2</td>\n      <td>NaN</td>\n      <td>NaN</td>\n      <td>NaN</td>\n      <td>NaN</td>\n      <td>NaN</td>\n      <td>2008</td>\n    </tr>\n    <tr>\n      <th>3</th>\n      <td>PlayerUnknown's Battlegrounds</td>\n      <td>Shooter</td>\n      <td>NaN</td>\n      <td>PUBG Corporation</td>\n      <td>NaN</td>\n      <td>NaN</td>\n      <td>NaN</td>\n      <td>NaN</td>\n      <td>NaN</td>\n      <td>NaN</td>\n      <td>2017</td>\n    </tr>\n    <tr>\n      <th>4</th>\n      <td>Wii Sports Resort</td>\n      <td>Sports</td>\n      <td>E</td>\n      <td>Nintendo EAD</td>\n      <td>8.0</td>\n      <td>NaN</td>\n      <td>NaN</td>\n      <td>NaN</td>\n      <td>NaN</td>\n      <td>NaN</td>\n      <td>2009</td>\n    </tr>\n  </tbody>\n</table>\n</div>"
     },
     "execution_count": 5,
     "metadata": {},
     "output_type": "execute_result"
    }
   ],
   "source": [
    "df = df.dropna(subset = ['Year'])\n",
    "df['Year'] = df['Year'].astype(int)\n",
    "df = df.drop(columns=['Rank', 'basename', 'Total_Shipped', 'Platform', 'Publisher', 'VGChartz_Score',\n",
    "                      'Last_Update', 'url', 'status', 'Vgchartzscore', 'img_url',  'User_Score'])\n",
    "# left join on 'Name', 'Year'\n",
    "pd.merge(df, additional, on = ['Name', 'Year'] , how = 'left')\n",
    "df.head()"
   ],
   "metadata": {
    "collapsed": false,
    "pycharm": {
     "name": "#%%\n"
    }
   }
  },
  {
   "cell_type": "markdown",
   "source": [
    "**Process the merged dataset**\n",
    "\n",
    "First we drop rows with missing values in the columns \"Developer\" and \"Genre\", and reset the index.\n",
    "It is obvious to predict sales as numerical data but we have the accuracy concern(we will see accuracy in the **Result Analysis and Demonstration** section)\n",
    "since the data may not demonstrate a strong linear trend. Therefore, we hope to predict it as categorical data: sale score is divided into 4 categories.\n",
    "Games in \">10\" category are expected to sell so greate that its name will left in history -- Grand Theft Auto, Pokemon, Call of duty and etc. You name it.\n",
    "Games in \"5-10\" category are sold less than the top ones, but they are still great games. \"5-1\" games are good games. there are still large amount of customer want to\n",
    "put them into their gaming library. The rest of games can be put into \"1-0\" categories. We respect the efforts that game developers put into them but they are relatively\n",
    "niche.\n",
    "\n",
    "For data analysis, we need to convert categorical variable to numerical variable. We choose to use label encoding on\n",
    "the three categories, \"Genre\", \"ESRB_Rating\" and \"Developer\" because it is easier to process numerical values in data\n",
    "analysis than processing string values. Since the total number of developers is large and we will use \"Genre\"\n",
    "in data visualization, we will process \"Developer\" and \"Genre\" later. To create the dataframe for data analysis,\n",
    " we need to drop columns that we will not use, which are 'Name', 'PAL_Sales', 'JP_Sales', 'Other_Sales', 'Critic_Score'.\n",
    "  Also, we will normalize the numerical values in the columns \"Global_Sales\" and \"NA_Sales\" by using the sklearn.preprocessing module."
   ],
   "metadata": {
    "collapsed": false
   }
  },
  {
   "cell_type": "code",
   "execution_count": 6,
   "outputs": [],
   "source": [
    "df = df.dropna(subset=['Developer', 'Genre'])\n",
    "df = df.reset_index(drop = True)\n",
    "df['Sales_Ranking'] = df['Global_Sales']\n",
    "# get values for the column 'Sales_Ranking'\n",
    "for i in range(len(df)):\n",
    "    df.loc[i, 'Developer'] = str(df.loc[i, 'Developer'])\n",
    "    if df.loc[i, 'Sales_Ranking'] >= 10:\n",
    "        df.loc[i, 'Sales_Ranking'] = 4\n",
    "    elif df.loc[i, 'Sales_Ranking'] >= 5 and df.loc[i, 'Sales_Ranking'] < 10:\n",
    "        df.loc[i, 'Sales_Ranking'] = 3\n",
    "    elif df.loc[i, 'Sales_Ranking'] >= 1 and df.loc[i, 'Sales_Ranking'] < 5:\n",
    "        df.loc[i, 'Sales_Ranking'] = 2\n",
    "    else:\n",
    "        df.loc[i, 'Sales_Ranking'] = 1\n",
    "\n",
    "le = LabelEncoder()\n",
    "# ohe = OneHotEncoder(handle_unknown = 'ignore')\n",
    "df['Sales_Ranking'] = df['Sales_Ranking'].astype(int)\n",
    "df = df.dropna(subset=['Global_Sales', 'ESRB_Rating'])\n",
    "df['ESRB_Rating'] = le.fit_transform(df['ESRB_Rating'])\n",
    "# df_temp = pd.DataFrame(ohe.fit_transform(df[['Genre']]).toarray())\n",
    "# df = df.join(df_temp)"
   ],
   "metadata": {
    "collapsed": false,
    "pycharm": {
     "name": "#%%\n"
    }
   }
  },
  {
   "cell_type": "markdown",
   "source": [
    "**Dataframe for data visualization**\n",
    "\n",
    "Now we create the dataframe for data visualization. We drop rows with NaN values in the columns \"Global_Sales\"\n",
    "and \"NA_Sales\" because these missing values can not be used in plotting the graphs."
   ],
   "metadata": {
    "collapsed": false
   }
  },
  {
   "cell_type": "code",
   "execution_count": 7,
   "outputs": [
    {
     "data": {
      "text/plain": "                          Name    Genre  ESRB_Rating       Developer  \\\n0           Grand Theft Auto V   Action            3  Rockstar North   \n1           Grand Theft Auto V   Action            3  Rockstar North   \n2  Grand Theft Auto: Vice City   Action            3  Rockstar North   \n3           Grand Theft Auto V   Action            3  Rockstar North   \n4    Call of Duty: Black Ops 3  Shooter            3        Treyarch   \n\n   Critic_Score  Global_Sales  NA_Sales  PAL_Sales  JP_Sales  Other_Sales  \\\n0           9.4         20.32      6.37       9.85      0.99         3.12   \n1           9.7         19.39      6.06       9.71      0.60         3.02   \n2           9.6         16.15      8.41       5.49      0.47         1.78   \n3           NaN         15.86      9.06       5.33      0.06         1.42   \n4           NaN         15.09      6.18       6.05      0.41         2.44   \n\n   Year  Sales_Ranking  \n0  2013              4  \n1  2014              4  \n2  2002              4  \n3  2013              4  \n4  2015              4  ",
      "text/html": "<div>\n<style scoped>\n    .dataframe tbody tr th:only-of-type {\n        vertical-align: middle;\n    }\n\n    .dataframe tbody tr th {\n        vertical-align: top;\n    }\n\n    .dataframe thead th {\n        text-align: right;\n    }\n</style>\n<table border=\"1\" class=\"dataframe\">\n  <thead>\n    <tr style=\"text-align: right;\">\n      <th></th>\n      <th>Name</th>\n      <th>Genre</th>\n      <th>ESRB_Rating</th>\n      <th>Developer</th>\n      <th>Critic_Score</th>\n      <th>Global_Sales</th>\n      <th>NA_Sales</th>\n      <th>PAL_Sales</th>\n      <th>JP_Sales</th>\n      <th>Other_Sales</th>\n      <th>Year</th>\n      <th>Sales_Ranking</th>\n    </tr>\n  </thead>\n  <tbody>\n    <tr>\n      <th>0</th>\n      <td>Grand Theft Auto V</td>\n      <td>Action</td>\n      <td>3</td>\n      <td>Rockstar North</td>\n      <td>9.4</td>\n      <td>20.32</td>\n      <td>6.37</td>\n      <td>9.85</td>\n      <td>0.99</td>\n      <td>3.12</td>\n      <td>2013</td>\n      <td>4</td>\n    </tr>\n    <tr>\n      <th>1</th>\n      <td>Grand Theft Auto V</td>\n      <td>Action</td>\n      <td>3</td>\n      <td>Rockstar North</td>\n      <td>9.7</td>\n      <td>19.39</td>\n      <td>6.06</td>\n      <td>9.71</td>\n      <td>0.60</td>\n      <td>3.02</td>\n      <td>2014</td>\n      <td>4</td>\n    </tr>\n    <tr>\n      <th>2</th>\n      <td>Grand Theft Auto: Vice City</td>\n      <td>Action</td>\n      <td>3</td>\n      <td>Rockstar North</td>\n      <td>9.6</td>\n      <td>16.15</td>\n      <td>8.41</td>\n      <td>5.49</td>\n      <td>0.47</td>\n      <td>1.78</td>\n      <td>2002</td>\n      <td>4</td>\n    </tr>\n    <tr>\n      <th>3</th>\n      <td>Grand Theft Auto V</td>\n      <td>Action</td>\n      <td>3</td>\n      <td>Rockstar North</td>\n      <td>NaN</td>\n      <td>15.86</td>\n      <td>9.06</td>\n      <td>5.33</td>\n      <td>0.06</td>\n      <td>1.42</td>\n      <td>2013</td>\n      <td>4</td>\n    </tr>\n    <tr>\n      <th>4</th>\n      <td>Call of Duty: Black Ops 3</td>\n      <td>Shooter</td>\n      <td>3</td>\n      <td>Treyarch</td>\n      <td>NaN</td>\n      <td>15.09</td>\n      <td>6.18</td>\n      <td>6.05</td>\n      <td>0.41</td>\n      <td>2.44</td>\n      <td>2015</td>\n      <td>4</td>\n    </tr>\n  </tbody>\n</table>\n</div>"
     },
     "execution_count": 7,
     "metadata": {},
     "output_type": "execute_result"
    }
   ],
   "source": [
    "df = df.reset_index(drop = True)\n",
    "df = df[df['Global_Sales'] != 0.0]\n",
    "df_for_visualization = df.dropna(subset = ['Global_Sales', 'NA_Sales'])\n",
    "df_for_visualization = df_for_visualization.reset_index(drop = True)\n",
    "df_for_visualization.head()"
   ],
   "metadata": {
    "collapsed": false,
    "pycharm": {
     "name": "#%%\n"
    }
   }
  },
  {
   "cell_type": "markdown",
   "source": [
    "**Dataframe for data analysis**\n",
    "\n",
    "To create the dataframe for data analysis, we need to drop columns that we will not use,\n",
    "which are 'Name', 'PAL_Sales', 'JP_Sales', 'Other_Sales', 'Critic_Score'. Also, we will normalize\n",
    "the numerical values in the columns \"Global_Sales\" and \"NA_Sales\" by using the sklearn.preprocessing module."
   ],
   "metadata": {
    "collapsed": false
   }
  },
  {
   "cell_type": "code",
   "execution_count": 8,
   "outputs": [
    {
     "data": {
      "text/plain": "       Genre  ESRB_Rating  Developer  NA_Sales  Year  Global_Sales  \\\n3153       7            0       1772  0.017418  2007      0.024126   \n7407      17            0        937  0.010246  2002      0.005908   \n10654     15            0        695  0.002049  2002      0.000985   \n9829       0            3       1558  0.004098  2007      0.001969   \n7877       0            5        331  0.010246  2016      0.005416   \n...      ...          ...        ...       ...   ...           ...   \n3049       0            3       1412  0.009221  2005      0.025111   \n5429       7            3       1807  0.012295  2002      0.011324   \n7101       5            1       1271  0.013320  2007      0.006893   \n11286      7            2        125  0.001025  2005      0.000000   \n3721       0            1          3  0.032787  2009      0.020187   \n\n       Sales_Ranking  \n3153               1  \n7407               1  \n10654              1  \n9829               1  \n7877               1  \n...              ...  \n3049               1  \n5429               1  \n7101               1  \n11286              1  \n3721               1  \n\n[11348 rows x 7 columns]",
      "text/html": "<div>\n<style scoped>\n    .dataframe tbody tr th:only-of-type {\n        vertical-align: middle;\n    }\n\n    .dataframe tbody tr th {\n        vertical-align: top;\n    }\n\n    .dataframe thead th {\n        text-align: right;\n    }\n</style>\n<table border=\"1\" class=\"dataframe\">\n  <thead>\n    <tr style=\"text-align: right;\">\n      <th></th>\n      <th>Genre</th>\n      <th>ESRB_Rating</th>\n      <th>Developer</th>\n      <th>NA_Sales</th>\n      <th>Year</th>\n      <th>Global_Sales</th>\n      <th>Sales_Ranking</th>\n    </tr>\n  </thead>\n  <tbody>\n    <tr>\n      <th>3153</th>\n      <td>7</td>\n      <td>0</td>\n      <td>1772</td>\n      <td>0.017418</td>\n      <td>2007</td>\n      <td>0.024126</td>\n      <td>1</td>\n    </tr>\n    <tr>\n      <th>7407</th>\n      <td>17</td>\n      <td>0</td>\n      <td>937</td>\n      <td>0.010246</td>\n      <td>2002</td>\n      <td>0.005908</td>\n      <td>1</td>\n    </tr>\n    <tr>\n      <th>10654</th>\n      <td>15</td>\n      <td>0</td>\n      <td>695</td>\n      <td>0.002049</td>\n      <td>2002</td>\n      <td>0.000985</td>\n      <td>1</td>\n    </tr>\n    <tr>\n      <th>9829</th>\n      <td>0</td>\n      <td>3</td>\n      <td>1558</td>\n      <td>0.004098</td>\n      <td>2007</td>\n      <td>0.001969</td>\n      <td>1</td>\n    </tr>\n    <tr>\n      <th>7877</th>\n      <td>0</td>\n      <td>5</td>\n      <td>331</td>\n      <td>0.010246</td>\n      <td>2016</td>\n      <td>0.005416</td>\n      <td>1</td>\n    </tr>\n    <tr>\n      <th>...</th>\n      <td>...</td>\n      <td>...</td>\n      <td>...</td>\n      <td>...</td>\n      <td>...</td>\n      <td>...</td>\n      <td>...</td>\n    </tr>\n    <tr>\n      <th>3049</th>\n      <td>0</td>\n      <td>3</td>\n      <td>1412</td>\n      <td>0.009221</td>\n      <td>2005</td>\n      <td>0.025111</td>\n      <td>1</td>\n    </tr>\n    <tr>\n      <th>5429</th>\n      <td>7</td>\n      <td>3</td>\n      <td>1807</td>\n      <td>0.012295</td>\n      <td>2002</td>\n      <td>0.011324</td>\n      <td>1</td>\n    </tr>\n    <tr>\n      <th>7101</th>\n      <td>5</td>\n      <td>1</td>\n      <td>1271</td>\n      <td>0.013320</td>\n      <td>2007</td>\n      <td>0.006893</td>\n      <td>1</td>\n    </tr>\n    <tr>\n      <th>11286</th>\n      <td>7</td>\n      <td>2</td>\n      <td>125</td>\n      <td>0.001025</td>\n      <td>2005</td>\n      <td>0.000000</td>\n      <td>1</td>\n    </tr>\n    <tr>\n      <th>3721</th>\n      <td>0</td>\n      <td>1</td>\n      <td>3</td>\n      <td>0.032787</td>\n      <td>2009</td>\n      <td>0.020187</td>\n      <td>1</td>\n    </tr>\n  </tbody>\n</table>\n<p>11348 rows × 7 columns</p>\n</div>"
     },
     "execution_count": 8,
     "metadata": {},
     "output_type": "execute_result"
    }
   ],
   "source": [
    "df_for_training = df.drop(columns = ['Name', 'PAL_Sales', 'JP_Sales', 'Other_Sales', 'Critic_Score'])\n",
    "df_for_training = df_for_training.dropna(subset = ['NA_Sales'])\n",
    "temp_df = df_for_training.drop(columns=['Genre', 'ESRB_Rating', 'Developer', 'Year', 'Sales_Ranking'])\n",
    "# create a temp dataframe for normalization of numerical values\n",
    "x = temp_df.values\n",
    "min_max_scaler = preprocessing.MinMaxScaler()\n",
    "x_scaled = min_max_scaler.fit_transform(x)\n",
    "temp_df = pd.DataFrame(x_scaled)\n",
    "# copy normalized values into the training dataframe\n",
    "df_for_training['Global_Sales'] = temp_df[0]\n",
    "df_for_training['NA_Sales'] = temp_df[1]\n",
    "df_for_training = df_for_training.dropna(subset = ['Global_Sales', 'NA_Sales'])\n",
    "df_for_training = df_for_training.reset_index(drop = True)\n",
    "# apply label encoding on 'Genre' and 'Developer'\n",
    "df_for_training['Genre'] = le.fit_transform(df_for_training['Genre'])\n",
    "df_for_training['Developer'] = le.fit_transform(df_for_training['Developer'])\n",
    "# Shuffle and reorder the dataframe\n",
    "df_for_training = df_for_training.sample(frac=1)[['Genre','ESRB_Rating','Developer','NA_Sales','Year','Global_Sales','Sales_Ranking']]\n",
    "df_for_training"
   ],
   "metadata": {
    "collapsed": false,
    "pycharm": {
     "name": "#%%\n"
    }
   }
  },
  {
   "cell_type": "markdown",
   "source": [
    "### 4.b Data Analysis and Visualization' <a name=\"data-ana-vis\"></a>"
   ],
   "metadata": {
    "collapsed": false
   }
  },
  {
   "cell_type": "markdown",
   "source": [
    "## 5. Machine Learning Model <a name=\"ml-model\"></a>\n",
    "In this section, we are going to implement several models and predict global sales. In the world of machine learning, people\n",
    "can split datas into two groups: numerical data and categorical data. Numerical data is everything that represented by numbers (integer\n",
    "and floating point). It's continuous. Categorical data, however, is discrete. Different models will be used to predict these two type of data.\n",
    "\n",
    "### 5.a What and Why <a name=\"what-why\"></a>"
   ],
   "metadata": {
    "collapsed": false
   }
  },
  {
   "cell_type": "markdown",
   "source": [
    "We want to use *multiple linear regression* for predicting numerical sale number. The reason is that we intend to investigate\n",
    "how strong the relationship is between many independent variables (in this case, critic score, developers and other variables) and\n",
    "one dependent variable -- sale score. We made several assumptions for using multiple linear regression.\n",
    " - Homogeneity of Variance: the size of the error in our prediction doesn't change a lot\n",
    " - Independence of Observations: each game is independent of others.\n",
    " - Linearity: the line of best fit through the data point is a straight line."
   ],
   "metadata": {
    "collapsed": false
   }
  },
  {
   "cell_type": "markdown",
   "source": [
    "Several models will be used for the prediction of categorical sale number: *Random forest*, *k-nearest neighbors* (KNN) and\n",
    "*Support vector machine*(SVM)\n",
    "\n",
    "Single decision tree suffers from a high variance, which makes them less accurate than other models. However, random forest fixes\n",
    "this problem. Benefits of using random forests:\n",
    " -  Bagging and bootstrap reduce the output variance\n",
    " -  Able to handle large dataset with high dimensionality (which is our datset)\n",
    "\n",
    "k-nearest neightbors, as one of the most famous classifications algorithm, surely have many positive sides:\n",
    " - No training period\n",
    " - Easily to add new data\n",
    " - Easy to implement\n",
    "\n",
    "Here is the advantages of choosing support vector machine as one of our algorithem.\n",
    " -  Effective in high dimensional spaces\n",
    " -  Use a subset of training set in the decision function and, therefore, prevent overfitting\n",
    " -  Memory efficient"
   ],
   "metadata": {
    "collapsed": false
   }
  },
  {
   "cell_type": "markdown",
   "source": [
    "### 5.b Training <a name=\"training\"></a>\n",
    "**Multiple Linear Regression**\n",
    "\n",
    "We will use sklearn library for most of our training task."
   ],
   "metadata": {
    "collapsed": false
   }
  },
  {
   "cell_type": "code",
   "execution_count": 9,
   "outputs": [],
   "source": [
    "from sklearn import linear_model, model_selection\n",
    "from sklearn.ensemble import RandomForestClassifier\n",
    "import sklearn\n",
    "\n",
    "# build model for numerical predictors\n",
    "muti_linear_regression = linear_model.LinearRegression(n_jobs=-1)"
   ],
   "metadata": {
    "collapsed": false,
    "pycharm": {
     "name": "#%%\n"
    }
   }
  },
  {
   "cell_type": "markdown",
   "source": [
    "Explanation:\n",
    "\n",
    "This is a very simple and straight-forward model with n_jobs = -1, which means we want to use all available CPU cores for efficiency purpose\n",
    "\n",
    "**Categorical Model**"
   ],
   "metadata": {
    "collapsed": false
   }
  },
  {
   "cell_type": "code",
   "execution_count": 10,
   "outputs": [],
   "source": [
    "# build model for categorical predictors\n",
    "random_forest = RandomForestClassifier(n_estimators = 1000, random_state=42,max_depth=4,n_jobs = -1)\n",
    "knn = sklearn.neighbors.KNeighborsClassifier(n_neighbors=5)\n",
    "svm = sklearn.svm.LinearSVC(max_iter=2000,dual=False)"
   ],
   "metadata": {
    "collapsed": false,
    "pycharm": {
     "name": "#%%\n"
    }
   }
  },
  {
   "cell_type": "markdown",
   "source": [
    "Explanation:\n",
    "\n",
    "To determine the number of trees (n_estimators in the function), we theoretically want as many trees as possible but the\n",
    "margin of accuracy of getting more than 1000 trees become neglectable. random_state will increase the randomness when the algorithm is\n",
    "bootstrapping.It is suggested that the maximum depth of the tree is sqrt(number of features), and also the\n",
    "more depth of a tree, the better it perform with diminishing returns. I will just choose 4 and the benefit of more than 4 is too small. The number of jobs indicates how many\n",
    "threads that are working in parallel.\n",
    "\n",
    "As for kNN, to determine the number of neighbors, I did several experiments. It turns out that n_neightbors = 5 can generate best output. Too small n_neightbor will result in\n",
    "unstable decision boundaries will too large will make the decision boundaries unclear.\n",
    "\n",
    "SVM is little bit intriguing. There are two options for us to set the \"decision_function_shape\". One is \"ovo\", which stands for one-verses-one, and the other option is called one-vs-the-rest.\n",
    "One-verse-one compare each classcifier with the predict value one by one while the one verse the rest option treats the x as a group and compare it with the y. In our case, we consider all the regressor\n",
    "as a group. The reason why we set max_iter to 2000 is that it will not converge at default number of iterations"
   ],
   "metadata": {
    "collapsed": false
   }
  },
  {
   "cell_type": "code",
   "execution_count": 11,
   "outputs": [],
   "source": [
    "# Assign first several columns as X and last two columns as ground truth\n",
    "X = df_for_training.iloc[:, 0:5]\n",
    "y_categorical = df_for_training[['Sales_Ranking']].to_numpy().flatten()\n",
    "y_numerical = df_for_training[['Global_Sales']].to_numpy().flatten()"
   ],
   "metadata": {
    "collapsed": false,
    "pycharm": {
     "name": "#%%\n"
    }
   }
  },
  {
   "cell_type": "code",
   "execution_count": 12,
   "outputs": [
    {
     "name": "stdout",
     "output_type": "stream",
     "text": [
      "The average score for linear regression is  0.8329380526739645\n",
      "The standard error of the score is  0.044375140974953854\n"
     ]
    }
   ],
   "source": [
    "# numerical model\n",
    "# 10-fold cross validation for multi-linear regression:\n",
    "linear_score = []\n",
    "X = X.to_numpy()\n",
    "for train_index, test_index in model_selection.KFold(n_splits=10).split(X):\n",
    "    X_train, X_test = X[train_index], X[test_index]\n",
    "    y_train, y_test = y_numerical[train_index], y_numerical[test_index]\n",
    "    model = muti_linear_regression.fit(X_train,y_train)\n",
    "    score = model.score(X_test,y_test)\n",
    "    linear_score.append(score)\n",
    "print('The average score for linear regression is ',np.average(linear_score))\n",
    "print(\"The standard error of the score is \", np.std(linear_score))"
   ],
   "metadata": {
    "collapsed": false,
    "pycharm": {
     "name": "#%%\n"
    }
   }
  },
  {
   "cell_type": "code",
   "execution_count": 13,
   "outputs": [
    {
     "name": "stdout",
     "output_type": "stream",
     "text": [
      "The average score for Random Forest is  0.9443951860398265\n",
      "The standard error of the score is  0.006578077092256287\n",
      "The average score for kNN is  0.8731059988035025\n",
      "The standard error of the score is  0.005475860780734276\n",
      "The average score for SVM is  0.8992760413024732\n",
      "The standard error of the score is  0.01149247828173759\n"
     ]
    }
   ],
   "source": [
    "# categorical model\n",
    "# Implement 10-fold cross validation\n",
    "rfr_score = model_selection.cross_val_score(random_forest, X, y_categorical, cv = 10)\n",
    "print(\"The average score for Random Forest is \", np.average(rfr_score))\n",
    "print(\"The standard error of the score is \", np.std(rfr_score))\n",
    "knn_score = model_selection.cross_val_score(knn, X, y_categorical, cv = 10)\n",
    "print(\"The average score for kNN is \", np.average(knn_score))\n",
    "print(\"The standard error of the score is \", np.std(knn_score))\n",
    "svm_score = model_selection.cross_val_score(svm,X, y_categorical, cv = 10)\n",
    "print(\"The average score for SVM is \", np.average(svm_score))\n",
    "print(\"The standard error of the score is \", np.std(svm_score))"
   ],
   "metadata": {
    "collapsed": false,
    "pycharm": {
     "name": "#%%\n"
    }
   }
  },
  {
   "cell_type": "markdown",
   "source": [
    "### 5.c Result Anlysis and Demonstration <a name=\"result-and-demon\"></a>\n",
    "Below is the bar graph of accuracy score for different models."
   ],
   "metadata": {
    "collapsed": false
   }
  },
  {
   "cell_type": "code",
   "execution_count": 14,
   "outputs": [
    {
     "data": {
      "text/plain": "<Figure size 432x288 with 1 Axes>",
      "image/png": "[encoded data removed]"
     },
     "metadata": {
      "needs_background": "light"
     },
     "output_type": "display_data"
    }
   ],
   "source": [
    "import matplotlib.pyplot as plt\n",
    "models = ['linear_reg', 'radom forest', 'knn', 'svm']\n",
    "scores = [linear_score,rfr_score, knn_score,svm_score]\n",
    "accuracy = np.average(scores,axis=1)\n",
    "std = np.std(scores,axis=1)\n",
    "fig, ax = plt.subplots()\n",
    "ax.bar(models,accuracy,align = 'center',yerr = std, capsize=20)\n",
    "ax.set_xticks(models)\n",
    "ax.set_title('Accuracy of Four Models For Game Sale Prediction')\n",
    "ax.yaxis.grid(True)\n",
    "ax.set_xlabel(\"Model\")\n",
    "ax.set_ylabel('Accuracy Score')\n",
    "plt.show()"
   ],
   "metadata": {
    "collapsed": false,
    "pycharm": {
     "name": "#%%\n"
    }
   }
  },
  {
   "cell_type": "markdown",
   "source": [
    "Random forest model has the best accuracy score and I think bagging and bootstrap could be the reason why it outperformed other models.\n",
    "Also, the prediction for categorical variable generally better than the numerical prediction becuase, intuitively, predicting a category is\n",
    "easier than a specific number.\n",
    "\n",
    "Since we are interested in the difference between two variables for the same subject, we are going to perform paired-t test for the predicted value and the ground truth to see\n",
    "the statistical difference between them. Our null hypothesis would be the average difference between the predicted value and ground truth is 0 and alternative hypothesis is the\n",
    "average difference is not 0. We choose alpha value = 0.05"
   ],
   "metadata": {
    "collapsed": false
   }
  },
  {
   "cell_type": "code",
   "execution_count": 15,
   "outputs": [
    {
     "name": "stdout",
     "output_type": "stream",
     "text": [
      "paired t-test for  multi-linear regression has the following result\n",
      "test statistics = 0.0 \n",
      "p value = 1.0\n"
     ]
    }
   ],
   "source": [
    "from scipy import stats\n",
    "muti_linear_regression.fit(X,y_categorical)\n",
    "pred_y = muti_linear_regression.predict(X)\n",
    "(statistics, pvalue) = stats.ttest_rel(y_categorical, pred_y)\n",
    "print(\"paired t-test for  multi-linear regression has the following result\")\n",
    "print(f'test statistics = {np.round(statistics,3)} \\np value = {np.round(pvalue,3)}')"
   ],
   "metadata": {
    "collapsed": false,
    "pycharm": {
     "name": "#%%\n"
    }
   }
  },
  {
   "cell_type": "code",
   "execution_count": 16,
   "outputs": [
    {
     "name": "stdout",
     "output_type": "stream",
     "text": [
      "paired t-test for random forest  has the following result\n",
      "test statistics = 7.85 \n",
      "p value = 0.0\n"
     ]
    }
   ],
   "source": [
    "random_forest.fit(X,y_categorical)\n",
    "pred_y = random_forest.predict(X)\n",
    "(statistics, pvalue) = stats.ttest_rel(y_categorical, pred_y)\n",
    "print(\"paired t-test for random forest  has the following result\")\n",
    "print(f'test statistics = {np.round(statistics,3)} \\np value = {np.round(pvalue,3)}')"
   ],
   "metadata": {
    "collapsed": false,
    "pycharm": {
     "name": "#%%\n"
    }
   }
  },
  {
   "cell_type": "code",
   "execution_count": 17,
   "outputs": [
    {
     "name": "stdout",
     "output_type": "stream",
     "text": [
      "paired t-test for k-nearest neightbor has the following result\n",
      "test statistics = 22.912 \n",
      "p value = 0.0\n"
     ]
    }
   ],
   "source": [
    "knn.fit(X,y_categorical)\n",
    "pred_y = knn.predict(X)\n",
    "(statistics, pvalue) = stats.ttest_rel(y_categorical, pred_y)\n",
    "print(\"paired t-test for k-nearest neightbor has the following result\")\n",
    "print(f'test statistics = {np.round(statistics,3)} \\np value = {np.round(pvalue,3)}')"
   ],
   "metadata": {
    "collapsed": false,
    "pycharm": {
     "name": "#%%\n"
    }
   }
  },
  {
   "cell_type": "code",
   "execution_count": 18,
   "outputs": [
    {
     "name": "stdout",
     "output_type": "stream",
     "text": [
      "paired t-test for support vector machine has the following result\n",
      "test statistics = 39.691 \n",
      "p value = 0.0\n"
     ]
    }
   ],
   "source": [
    "svm.fit(X,y_categorical)\n",
    "pred_y = svm.predict(X)\n",
    "(statistics, pvalue) = stats.ttest_rel(y_categorical, pred_y)\n",
    "print(\"paired t-test for support vector machine has the following result\")\n",
    "print(f'test statistics = {np.round(statistics,3)} \\np value = {np.round(pvalue,3)}')"
   ],
   "metadata": {
    "collapsed": false,
    "pycharm": {
     "name": "#%%\n"
    }
   }
  },
  {
   "cell_type": "markdown",
   "source": [
    "From above result, it is interesting to see that we failed reject null hypothesis (i.e. there is no difference between\n",
    "the predicted value and ground truth for multi-linear regression paired-t test) but reject the null hypothesis (that is, there IS a difference)\n",
    "for the rest of three paired-t test. However, according to the accuracy score, random forest model achieved the highest. Why does this happen?\n",
    "\n",
    "According the formula that calculate t-value, we need to find the standard deviation of the difference between two groups. This standard deviation doesn't\n",
    "make sense when it comes to category. You can think it as using l2 loss (mean squared error) instead of cross-entropy loss for categorical problem. Therefore,\n",
    "we'd better directly use accuracy score for model-model comparison."
   ],
   "metadata": {
    "collapsed": false
   }
  },
  {
   "cell_type": "markdown",
   "source": [
    "## 6. Future Application <a name=\"future-app\"></a>"
   ],
   "metadata": {
    "collapsed": false
   }
  },
  {
   "cell_type": "markdown",
   "source": [
    "## 7. Reference and External Link <a name=\"ref-and-extlink\"></a>\n",
    "#### Gaming industry statistics\n",
    " - https://www.statista.com/statistics/292056/video-game-market-value-worldwide/\n",
    " - https://www.statista.com/statistics/552623/number-games-released-steam/\n",
    "\n",
    "#### Want to to know more about multiple linear regression?\n",
    " - https://www.scribbr.com/statistics/multiple-linear-regression/\n",
    " - https://en.wikipedia.org/wiki/Linear_regression\n",
    " - https://towardsdatascience.com/understanding-multiple-regression-249b16bde83e\n",
    "\n",
    "#### Extend materials for support vector machine, Knn, random forest\n",
    " - https://towardsdatascience.com/support-vector-machine-introduction-to-machine-learning-algorithms-934a444fca47\n",
    " - https://www.youtube.com/watch?v=1NxnPkZM9bc\n",
    " - https://towardsdatascience.com/machine-learning-basics-with-the-k-nearest-neighbors-algorithm-6a6e71d01761\n",
    " - https://scikit-learn.org/stable/modules/svm.html\n",
    " - https://scikit-learn.org/stable/modules/generated/sklearn.neighbors.KNeighborsClassifier.html\n",
    " - https://scikit-learn.org/stable/modules/generated/sklearn.ensemble.RandomForestClassifier.html\n",
    "\n",
    "#### paired-t test reading:\n",
    " - https://sphweb.bumc.bu.edu/otlt/MPH-Modules/BS/SAS/SAS4-OneSampleTtest/SAS4-OneSampleTtest7.html"
   ],
   "metadata": {
    "collapsed": false
   }
  }
 ],
 "metadata": {
  "kernelspec": {
   "name": "pycharm-7738021d",
   "language": "python",
   "display_name": "PyCharm (cmsc320fall2020)"
  },
  "language_info": {
   "codemirror_mode": {
    "name": "ipython",
    "version": 2
   },
   "file_extension": ".py",
   "mimetype": "text/x-python",
   "name": "python",
   "nbconvert_exporter": "python",
   "pygments_lexer": "ipython2",
   "version": "2.7.6"
  }
 },
 "nbformat": 4,
 "nbformat_minor": 0
}