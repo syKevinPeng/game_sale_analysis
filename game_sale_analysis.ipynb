{
 "cells": [
  {
   "cell_type": "markdown",
   "metadata": {
    "collapsed": true,
    "pycharm": {
     "name": "#%% md\n"
    }
   },
   "source": [
    "#### Siyuan \"Kevin\" Peng, Yuanzhe \"Siris\" Zheng, Yanlin \"Jacky\" Liu\n",
    "![Image of Yaktocat](https://cdn.mos.cms.futurecdn.net/rLh7Dh7EKo8F6zmDtXYp8W.jpg)\n",
    "# Table of Contents\n",
    "1. [Introduction](#introduction)\n",
    "2. [Install packages](#install-pkg)\n",
    "3. [Data Dowloading](#data-download)\n",
    "4. [Preprocessing](#preprocessing)<br>\n",
    "    a. [Load and Clean Dataset](#load-and-clean)<br>\n",
    "    b. [Data Analysis and Visualization](#data-ana-vis)\n",
    "5. [Machine Learning Model](#ml-model)<br>\n",
    "    a. [What and Why](#what-why)<br>\n",
    "    b. [Training](#training)<br>\n",
    "    c. [Result Anlysis and Demonstration](#result-ana-demon)\n",
    "6. [Future Application](#future-app)\n",
    "7. [Reference and External Link](#ref-and-extlink)\n",
    "\n",
    "## 1. Introduction <a name=\"introduction\"></a>\n",
    "TODO:"
   ]
  },
  {
   "cell_type": "markdown",
   "metadata": {},
   "source": [
    "## 2. Install Packages <a name=\"install-pkg\"></a>\n",
    "```\n",
    "pip install kaggle numpy matplotlib pandas\n",
    "```\n",
    "or use environment.yml to install packages in conda environment\n",
    "```\n",
    "conda env update -f environment.yml\n",
    "```\n",
    "## 3. Data Downloading <a name=\"data-download\"></a>"
   ]
  },
  {
   "cell_type": "code",
   "execution_count": 3,
   "metadata": {
    "pycharm": {
     "name": "#%%\n"
    }
   },
   "outputs": [
    {
     "name": "stdout",
     "output_type": "stream",
     "text": [
      "video-games-sales-2019.zip: Skipping, found more recently modified local copy (use --force to force download)\n"
     ]
    }
   ],
   "source": [
    "import kaggle\n",
    "# remember to put kaggle.json to your C:/username/.kaggle\n",
    "!kaggle datasets download -d ashaheedq/video-games-sales-2019"
   ]
  },
  {
   "cell_type": "markdown",
   "metadata": {
    "pycharm": {
     "name": "#%% md\n"
    }
   },
   "source": [
    "or directly download from kaggle webpage: [https://www.kaggle.com/ashaheedq/video-games-sales-2019](https://www.kaggle.com/ashaheedq/video-games-sales-2019)_\n",
    "## 4. Preprocessing <a name=\"preprocessing\"></a>\n",
    "### 4.a Load and Clean Data <a name=\"load-and-clean\"></a>"
   ]
  },
  {
   "cell_type": "code",
   "execution_count": 40,
   "metadata": {
    "pycharm": {
     "name": "#%%\n"
    }
   },
   "outputs": [],
   "source": [
    "#TODO:\n",
    "import pandas as pd\n",
    "import numpy as np\n",
    "import sklearn\n",
    "from sklearn.preprocessing import OneHotEncoder\n",
    "from sklearn.compose import ColumnTransformer\n",
    "from sklearn.preprocessing import LabelEncoder\n",
    "\n",
    "df = pd.read_csv(\"vgsales-12-4-2019.csv\")\n",
    "df = df.drop(columns=['basename', 'Total_Shipped', 'Platform', 'Publisher', 'VGChartz_Score', 'Last_Update', 'url', 'status', 'Vgchartzscore', 'img_url', 'ESRB_Rating'])\n",
    "df = df.dropna(subset=['NA_Sales', 'Developer', 'Genre'])\n",
    "df = df.reset_index()\n",
    "for i in range(len(df)):\n",
    "    df.loc[i, 'Developer'] = str(df.loc[i, 'Developer'])\n",
    "\n",
    "le = LabelEncoder()\n",
    "ohe = OneHotEncoder(handle_unknown = 'ignore')\n",
    "df['Developer'] = le.fit_transform(df['Developer'])\n",
    "df['Genre'] = le.fit_transform(df['Genre'])\n",
    "# df_genre = pd.DataFrame(ohe.fit_transform(df[['Genre']]).toarray())\n",
    "# df_developer = pd.DataFrame(ohe.fit_transform(df[['Developer']]).toarray())\n",
    "df_temp = pd.DataFrame(ohe.fit_transform(df[['Genre', 'Developer']]).toarray())"
   ]
  },
  {
   "cell_type": "code",
   "execution_count": 41,
   "metadata": {},
   "outputs": [
    {
     "data": {
      "text/html": [
       "<div>\n",
       "<style scoped>\n",
       "    .dataframe tbody tr th:only-of-type {\n",
       "        vertical-align: middle;\n",
       "    }\n",
       "\n",
       "    .dataframe tbody tr th {\n",
       "        vertical-align: top;\n",
       "    }\n",
       "\n",
       "    .dataframe thead th {\n",
       "        text-align: right;\n",
       "    }\n",
       "</style>\n",
       "<table border=\"1\" class=\"dataframe\">\n",
       "  <thead>\n",
       "    <tr style=\"text-align: right;\">\n",
       "      <th></th>\n",
       "      <th>index</th>\n",
       "      <th>Rank</th>\n",
       "      <th>Name</th>\n",
       "      <th>Genre</th>\n",
       "      <th>Developer</th>\n",
       "      <th>Critic_Score</th>\n",
       "      <th>User_Score</th>\n",
       "      <th>Global_Sales</th>\n",
       "      <th>NA_Sales</th>\n",
       "      <th>PAL_Sales</th>\n",
       "      <th>...</th>\n",
       "      <th>2211</th>\n",
       "      <th>2212</th>\n",
       "      <th>2213</th>\n",
       "      <th>2214</th>\n",
       "      <th>2215</th>\n",
       "      <th>2216</th>\n",
       "      <th>2217</th>\n",
       "      <th>2218</th>\n",
       "      <th>2219</th>\n",
       "      <th>2220</th>\n",
       "    </tr>\n",
       "  </thead>\n",
       "  <tbody>\n",
       "    <tr>\n",
       "      <th>0</th>\n",
       "      <td>19</td>\n",
       "      <td>20</td>\n",
       "      <td>Grand Theft Auto V</td>\n",
       "      <td>0</td>\n",
       "      <td>1577</td>\n",
       "      <td>9.4</td>\n",
       "      <td>NaN</td>\n",
       "      <td>20.32</td>\n",
       "      <td>6.37</td>\n",
       "      <td>9.85</td>\n",
       "      <td>...</td>\n",
       "      <td>0.0</td>\n",
       "      <td>0.0</td>\n",
       "      <td>0.0</td>\n",
       "      <td>0.0</td>\n",
       "      <td>0.0</td>\n",
       "      <td>0.0</td>\n",
       "      <td>0.0</td>\n",
       "      <td>0.0</td>\n",
       "      <td>0.0</td>\n",
       "      <td>0.0</td>\n",
       "    </tr>\n",
       "    <tr>\n",
       "      <th>1</th>\n",
       "      <td>20</td>\n",
       "      <td>21</td>\n",
       "      <td>Grand Theft Auto V</td>\n",
       "      <td>0</td>\n",
       "      <td>1577</td>\n",
       "      <td>9.7</td>\n",
       "      <td>NaN</td>\n",
       "      <td>19.39</td>\n",
       "      <td>6.06</td>\n",
       "      <td>9.71</td>\n",
       "      <td>...</td>\n",
       "      <td>0.0</td>\n",
       "      <td>0.0</td>\n",
       "      <td>0.0</td>\n",
       "      <td>0.0</td>\n",
       "      <td>0.0</td>\n",
       "      <td>0.0</td>\n",
       "      <td>0.0</td>\n",
       "      <td>0.0</td>\n",
       "      <td>0.0</td>\n",
       "      <td>0.0</td>\n",
       "    </tr>\n",
       "    <tr>\n",
       "      <th>2</th>\n",
       "      <td>30</td>\n",
       "      <td>31</td>\n",
       "      <td>Grand Theft Auto: Vice City</td>\n",
       "      <td>0</td>\n",
       "      <td>1577</td>\n",
       "      <td>9.6</td>\n",
       "      <td>NaN</td>\n",
       "      <td>16.15</td>\n",
       "      <td>8.41</td>\n",
       "      <td>5.49</td>\n",
       "      <td>...</td>\n",
       "      <td>0.0</td>\n",
       "      <td>0.0</td>\n",
       "      <td>0.0</td>\n",
       "      <td>0.0</td>\n",
       "      <td>0.0</td>\n",
       "      <td>0.0</td>\n",
       "      <td>0.0</td>\n",
       "      <td>0.0</td>\n",
       "      <td>0.0</td>\n",
       "      <td>0.0</td>\n",
       "    </tr>\n",
       "    <tr>\n",
       "      <th>3</th>\n",
       "      <td>32</td>\n",
       "      <td>33</td>\n",
       "      <td>Grand Theft Auto V</td>\n",
       "      <td>0</td>\n",
       "      <td>1577</td>\n",
       "      <td>NaN</td>\n",
       "      <td>NaN</td>\n",
       "      <td>15.86</td>\n",
       "      <td>9.06</td>\n",
       "      <td>5.33</td>\n",
       "      <td>...</td>\n",
       "      <td>0.0</td>\n",
       "      <td>0.0</td>\n",
       "      <td>0.0</td>\n",
       "      <td>0.0</td>\n",
       "      <td>0.0</td>\n",
       "      <td>0.0</td>\n",
       "      <td>0.0</td>\n",
       "      <td>0.0</td>\n",
       "      <td>0.0</td>\n",
       "      <td>0.0</td>\n",
       "    </tr>\n",
       "    <tr>\n",
       "      <th>4</th>\n",
       "      <td>34</td>\n",
       "      <td>35</td>\n",
       "      <td>Call of Duty: Black Ops 3</td>\n",
       "      <td>15</td>\n",
       "      <td>1954</td>\n",
       "      <td>NaN</td>\n",
       "      <td>NaN</td>\n",
       "      <td>15.09</td>\n",
       "      <td>6.18</td>\n",
       "      <td>6.05</td>\n",
       "      <td>...</td>\n",
       "      <td>0.0</td>\n",
       "      <td>0.0</td>\n",
       "      <td>0.0</td>\n",
       "      <td>0.0</td>\n",
       "      <td>0.0</td>\n",
       "      <td>0.0</td>\n",
       "      <td>0.0</td>\n",
       "      <td>0.0</td>\n",
       "      <td>0.0</td>\n",
       "      <td>0.0</td>\n",
       "    </tr>\n",
       "  </tbody>\n",
       "</table>\n",
       "<p>5 rows × 2234 columns</p>\n",
       "</div>"
      ],
      "text/plain": [
       "   index  Rank                         Name  Genre  Developer  Critic_Score  \\\n",
       "0     19    20           Grand Theft Auto V      0       1577           9.4   \n",
       "1     20    21           Grand Theft Auto V      0       1577           9.7   \n",
       "2     30    31  Grand Theft Auto: Vice City      0       1577           9.6   \n",
       "3     32    33           Grand Theft Auto V      0       1577           NaN   \n",
       "4     34    35    Call of Duty: Black Ops 3     15       1954           NaN   \n",
       "\n",
       "   User_Score  Global_Sales  NA_Sales  PAL_Sales  ...  2211  2212  2213  2214  \\\n",
       "0         NaN         20.32      6.37       9.85  ...   0.0   0.0   0.0   0.0   \n",
       "1         NaN         19.39      6.06       9.71  ...   0.0   0.0   0.0   0.0   \n",
       "2         NaN         16.15      8.41       5.49  ...   0.0   0.0   0.0   0.0   \n",
       "3         NaN         15.86      9.06       5.33  ...   0.0   0.0   0.0   0.0   \n",
       "4         NaN         15.09      6.18       6.05  ...   0.0   0.0   0.0   0.0   \n",
       "\n",
       "   2215  2216  2217  2218  2219  2220  \n",
       "0   0.0   0.0   0.0   0.0   0.0   0.0  \n",
       "1   0.0   0.0   0.0   0.0   0.0   0.0  \n",
       "2   0.0   0.0   0.0   0.0   0.0   0.0  \n",
       "3   0.0   0.0   0.0   0.0   0.0   0.0  \n",
       "4   0.0   0.0   0.0   0.0   0.0   0.0  \n",
       "\n",
       "[5 rows x 2234 columns]"
      ]
     },
     "execution_count": 41,
     "metadata": {},
     "output_type": "execute_result"
    }
   ],
   "source": [
    "df = df.join(df_temp)\n",
    "df.head()"
   ]
  },
  {
   "cell_type": "markdown",
   "metadata": {
    "pycharm": {
     "name": "#%% md\n"
    }
   },
   "source": [
    "### 4.b Data Analysis and Visualization' <a name=\"data-ana-vis\"></a>"
   ]
  },
  {
   "cell_type": "code",
   "execution_count": 5,
   "metadata": {
    "pycharm": {
     "name": "#%%\n"
    }
   },
   "outputs": [],
   "source": [
    "#TODO:"
   ]
  },
  {
   "cell_type": "markdown",
   "metadata": {
    "pycharm": {
     "name": "#%% md\n"
    }
   },
   "source": [
    "## 5. Machine Learning Model <a name=\"ml-model\"></a>\n",
    "### 5.a What and Why <a name=\"what-why\"></a>"
   ]
  },
  {
   "cell_type": "code",
   "execution_count": 6,
   "metadata": {
    "pycharm": {
     "name": "#%%\n"
    }
   },
   "outputs": [],
   "source": [
    "#TODO:"
   ]
  },
  {
   "cell_type": "markdown",
   "metadata": {
    "pycharm": {
     "name": "#%% md\n"
    }
   },
   "source": [
    "### 5.b Training <a name=\"training\"></a>"
   ]
  },
  {
   "cell_type": "code",
   "execution_count": 7,
   "metadata": {
    "pycharm": {
     "name": "#%%\n"
    }
   },
   "outputs": [],
   "source": [
    "#TODO:"
   ]
  },
  {
   "cell_type": "markdown",
   "metadata": {
    "pycharm": {
     "name": "#%% md\n"
    }
   },
   "source": [
    "### 5.c Result Anlysis and Demonstration <a name=\"result-ana-demon\"></a>\n",
    "TODO:\n",
    "## 6. Future Application <a name=\"future-app\"></a>\n",
    "TODO:\n",
    "## 7. Reference and External Link <a name=\"ref-and-extlink\"></a>\n",
    "TODO:"
   ]
  }
 ],
 "metadata": {
  "kernelspec": {
   "display_name": "Python 3",
   "language": "python",
   "name": "python3"
  },
  "language_info": {
   "codemirror_mode": {
    "name": "ipython",
    "version": 3
   },
   "file_extension": ".py",
   "mimetype": "text/x-python",
   "name": "python",
   "nbconvert_exporter": "python",
   "pygments_lexer": "ipython3",
   "version": "3.8.5"
  }
 },
 "nbformat": 4,
 "nbformat_minor": 1
}